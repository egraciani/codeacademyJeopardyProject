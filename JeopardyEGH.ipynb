{
 "cells": [
  {
   "cell_type": "markdown",
   "metadata": {},
   "source": [
    "# This is Jeopardy!"
   ]
  },
  {
   "cell_type": "markdown",
   "metadata": {},
   "source": [
    "#### Project Goals"
   ]
  },
  {
   "cell_type": "markdown",
   "metadata": {},
   "source": [
    "You will work to write several functions that investigate a dataset of _Jeopardy!_ questions and answers. Filter the dataset for topics that you're interested in, compute the average difficulty of those questions, and train to become the next Jeopardy champion!"
   ]
  },
  {
   "cell_type": "markdown",
   "metadata": {},
   "source": [
    "## Prerequisites"
   ]
  },
  {
   "cell_type": "markdown",
   "metadata": {},
   "source": [
    "In order to complete this project, you should have completed the Pandas lessons in the <a href=\"https://www.codecademy.com/learn/paths/analyze-data-with-python\">Analyze Data with Python Skill Path</a>. You can also find those lessons in the <a href=\"https://www.codecademy.com/learn/data-processing-pandas\">Data Analysis with Pandas course</a> or the <a href=\"https://www.codecademy.com/learn/paths/data-science/\">Data Scientist Career Path</a>.\n",
    "\n",
    "Finally, the <a href=\"https://www.codecademy.com/learn/practical-data-cleaning\">Practical Data Cleaning</a> course may also be helpful."
   ]
  },
  {
   "cell_type": "markdown",
   "metadata": {},
   "source": [
    "## Project Requirements"
   ]
  },
  {
   "cell_type": "markdown",
   "metadata": {},
   "source": [
    "1. We've provided a csv file containing data about the game show _Jeopardy!_ in a file named `jeopardy.csv`. Load the data into a DataFrame and investigate its contents. Try to print out specific columns.\n",
    "\n",
    "   Note that in order to make this project as \"real-world\" as possible, we haven't modified the data at all - we're giving it to you exactly how we found it. As a result, this data isn't as \"clean\" as the datasets you normally find on Codecademy. More specifically, there's something odd about the column names. After you figure out the problem with the column names, you may want to rename them to make your life easier for the rest of the project.\n",
    "   \n",
    "   In order to display the full contents of a column, we've added this line of code for you:\n",
    "   \n",
    "   ```py\n",
    "   pd.set_option('display.max_colwidth', None)\n",
    "   ```"
   ]
  },
  {
   "cell_type": "code",
   "execution_count": 6,
   "metadata": {},
   "outputs": [
    {
     "name": "stdout",
     "output_type": "stream",
     "text": [
      "   Show Number    Air Date      Round                         Category  Value  \\\n",
      "0         4680  2004-12-31  Jeopardy!                          HISTORY   $200   \n",
      "1         4680  2004-12-31  Jeopardy!  ESPN's TOP 10 ALL-TIME ATHLETES   $200   \n",
      "2         4680  2004-12-31  Jeopardy!      EVERYBODY TALKS ABOUT IT...   $200   \n",
      "\n",
      "                                                                                                      Question  \\\n",
      "0             For the last 8 years of his life, Galileo was under house arrest for espousing this man's theory   \n",
      "1  No. 2: 1912 Olympian; football star at Carlisle Indian School; 6 MLB seasons with the Reds, Giants & Braves   \n",
      "2                     The city of Yuma in this state has a record average of 4,055 hours of sunshine each year   \n",
      "\n",
      "       Answer  \n",
      "0  Copernicus  \n",
      "1  Jim Thorpe  \n",
      "2     Arizona  \n"
     ]
    }
   ],
   "source": [
    "import pandas as pd\n",
    "pd.set_option('display.max_colwidth', None)\n",
    "\n",
    "#Added this to ensure I see all columns\n",
    "pd.set_option('display.max_columns', None)\n",
    "\n",
    "jeopardy_data = pd.read_csv('jeopardy.csv')\n",
    "\n",
    "print(jeopardy_data.head(3))\n"
   ]
  },
  {
   "cell_type": "code",
   "execution_count": 33,
   "metadata": {},
   "outputs": [
    {
     "data": {
      "text/html": [
       "<div>\n",
       "<style scoped>\n",
       "    .dataframe tbody tr th:only-of-type {\n",
       "        vertical-align: middle;\n",
       "    }\n",
       "\n",
       "    .dataframe tbody tr th {\n",
       "        vertical-align: top;\n",
       "    }\n",
       "\n",
       "    .dataframe thead th {\n",
       "        text-align: right;\n",
       "    }\n",
       "</style>\n",
       "<table border=\"1\" class=\"dataframe\">\n",
       "  <thead>\n",
       "    <tr style=\"text-align: right;\">\n",
       "      <th></th>\n",
       "      <th>Show Number</th>\n",
       "      <th>Air Date</th>\n",
       "      <th>Round</th>\n",
       "      <th>Category</th>\n",
       "      <th>Value</th>\n",
       "      <th>Question</th>\n",
       "      <th>Answer</th>\n",
       "    </tr>\n",
       "  </thead>\n",
       "  <tbody>\n",
       "    <tr>\n",
       "      <th>0</th>\n",
       "      <td>4680</td>\n",
       "      <td>2004-12-31</td>\n",
       "      <td>Jeopardy!</td>\n",
       "      <td>HISTORY</td>\n",
       "      <td>$200</td>\n",
       "      <td>For the last 8 years of his life, Galileo was under house arrest for espousing this man's theory</td>\n",
       "      <td>Copernicus</td>\n",
       "    </tr>\n",
       "    <tr>\n",
       "      <th>1</th>\n",
       "      <td>4680</td>\n",
       "      <td>2004-12-31</td>\n",
       "      <td>Jeopardy!</td>\n",
       "      <td>ESPN's TOP 10 ALL-TIME ATHLETES</td>\n",
       "      <td>$200</td>\n",
       "      <td>No. 2: 1912 Olympian; football star at Carlisle Indian School; 6 MLB seasons with the Reds, Giants &amp; Braves</td>\n",
       "      <td>Jim Thorpe</td>\n",
       "    </tr>\n",
       "    <tr>\n",
       "      <th>2</th>\n",
       "      <td>4680</td>\n",
       "      <td>2004-12-31</td>\n",
       "      <td>Jeopardy!</td>\n",
       "      <td>EVERYBODY TALKS ABOUT IT...</td>\n",
       "      <td>$200</td>\n",
       "      <td>The city of Yuma in this state has a record average of 4,055 hours of sunshine each year</td>\n",
       "      <td>Arizona</td>\n",
       "    </tr>\n",
       "  </tbody>\n",
       "</table>\n",
       "</div>"
      ],
      "text/plain": [
       "   Show Number    Air Date      Round                         Category Value  \\\n",
       "0         4680  2004-12-31  Jeopardy!                          HISTORY  $200   \n",
       "1         4680  2004-12-31  Jeopardy!  ESPN's TOP 10 ALL-TIME ATHLETES  $200   \n",
       "2         4680  2004-12-31  Jeopardy!      EVERYBODY TALKS ABOUT IT...  $200   \n",
       "\n",
       "                                                                                                      Question  \\\n",
       "0             For the last 8 years of his life, Galileo was under house arrest for espousing this man's theory   \n",
       "1  No. 2: 1912 Olympian; football star at Carlisle Indian School; 6 MLB seasons with the Reds, Giants & Braves   \n",
       "2                     The city of Yuma in this state has a record average of 4,055 hours of sunshine each year   \n",
       "\n",
       "       Answer  \n",
       "0  Copernicus  \n",
       "1  Jim Thorpe  \n",
       "2     Arizona  "
      ]
     },
     "execution_count": 33,
     "metadata": {},
     "output_type": "execute_result"
    }
   ],
   "source": [
    "#Let's start investigating the data:\n",
    "jeopardy_data.describe()\n",
    "column_names = jeopardy_data.columns.tolist() \n",
    "column_names # here we found the issue with the column names\n",
    "\n",
    "#Renaming columns\n",
    "new_columns = {\n",
    "    'Show Number': 'Show Number'\n",
    "    ,' Air Date': 'Air Date'\n",
    "    ,' Round' : 'Round'\n",
    "    ,' Category' : 'Category'\n",
    "    ,' Value' : 'Value'\n",
    "    ,' Question' : 'Question'\n",
    "    ,' Answer' : 'Answer'\n",
    "}\n",
    "jeopardy_data_clean = jeopardy_data.rename(columns=new_columns)\n",
    "#jeopardy_data_clean.head(3)\n",
    "\n",
    "#Check if the added spaces is also occurring in the values\n",
    "jeopardy_data_clean.Question = jeopardy_data_clean.Question.str.strip() \n",
    "jeopardy_data_clean.head(3) #looks like it's not happening\n"
   ]
  },
  {
   "cell_type": "code",
   "execution_count": 37,
   "metadata": {},
   "outputs": [
    {
     "name": "stdout",
     "output_type": "stream",
     "text": [
      "<class 'pandas.core.frame.DataFrame'>\n",
      "RangeIndex: 216930 entries, 0 to 216929\n",
      "Data columns (total 7 columns):\n",
      " #   Column       Non-Null Count   Dtype \n",
      "---  ------       --------------   ----- \n",
      " 0   Show Number  216930 non-null  int64 \n",
      " 1   Air Date     216930 non-null  object\n",
      " 2   Round        216930 non-null  object\n",
      " 3   Category     216930 non-null  object\n",
      " 4   Value        216930 non-null  object\n",
      " 5   Question     216930 non-null  object\n",
      " 6   Answer       216928 non-null  object\n",
      "dtypes: int64(1), object(6)\n",
      "memory usage: 11.6+ MB\n"
     ]
    }
   ],
   "source": [
    "# More exploration to see how can we keep cleaning the data\n",
    "jeopardy_data_clean.info()\n"
   ]
  },
  {
   "cell_type": "code",
   "execution_count": 40,
   "metadata": {},
   "outputs": [
    {
     "data": {
      "text/plain": [
       "Category\n",
       "BEFORE & AFTER        547\n",
       "SCIENCE               519\n",
       "LITERATURE            496\n",
       "AMERICAN HISTORY      418\n",
       "POTPOURRI             401\n",
       "                     ... \n",
       "1999 TELEVISION         1\n",
       "WORDS IN PHYSICS        1\n",
       "LITERATURE & MUSIC      1\n",
       "'90s NOTABLES           1\n",
       "CELEBRITY NAMES         1\n",
       "Name: count, Length: 27995, dtype: int64"
      ]
     },
     "execution_count": 40,
     "metadata": {},
     "output_type": "execute_result"
    }
   ],
   "source": [
    "jeopardy_data_clean.Round.value_counts() #useful for categorical data - to understand distribution\n",
    "jeopardy_data_clean.Category.value_counts() #looks like Category might have duplicates with similar names or have a long tail\n"
   ]
  },
  {
   "cell_type": "code",
   "execution_count": 45,
   "metadata": {},
   "outputs": [
    {
     "data": {
      "text/plain": [
       "Category\n",
       "LITERATURE               496\n",
       "AMERICAN LITERATURE      234\n",
       "WORLD LITERATURE         105\n",
       "ENGLISH LITERATURE        95\n",
       "CHILDREN'S LITERATURE     93\n",
       "                        ... \n",
       "LITERATURE & FILM          1\n",
       "LITERATURE & MUSIC         1\n",
       "KINGS & LITERATURE         1\n",
       "CANADIAN LITERATURE        1\n",
       "EUROPEAN LITERATURE        1\n",
       "Name: count, Length: 95, dtype: int64"
      ]
     },
     "execution_count": 45,
     "metadata": {},
     "output_type": "execute_result"
    }
   ],
   "source": [
    "#Let's try to dive into Category:\n",
    "filtered_df = jeopardy_data_clean[jeopardy_data_clean.Category.str.contains('LITERATURE', case=False)]\n",
    "filtered_df.Category.value_counts()\n"
   ]
  },
  {
   "cell_type": "markdown",
   "metadata": {},
   "source": [
    "### WIP - IDEA: create a new column and group these categories into high-level categories like History, Literature, etc\n"
   ]
  },
  {
   "cell_type": "code",
   "execution_count": 52,
   "metadata": {},
   "outputs": [
    {
     "data": {
      "text/html": [
       "<div>\n",
       "<style scoped>\n",
       "    .dataframe tbody tr th:only-of-type {\n",
       "        vertical-align: middle;\n",
       "    }\n",
       "\n",
       "    .dataframe tbody tr th {\n",
       "        vertical-align: top;\n",
       "    }\n",
       "\n",
       "    .dataframe thead th {\n",
       "        text-align: right;\n",
       "    }\n",
       "</style>\n",
       "<table border=\"1\" class=\"dataframe\">\n",
       "  <thead>\n",
       "    <tr style=\"text-align: right;\">\n",
       "      <th></th>\n",
       "      <th>Show Number</th>\n",
       "      <th>Air Date</th>\n",
       "      <th>Round</th>\n",
       "      <th>Category</th>\n",
       "      <th>Value</th>\n",
       "      <th>Question</th>\n",
       "      <th>Answer</th>\n",
       "    </tr>\n",
       "  </thead>\n",
       "  <tbody>\n",
       "  </tbody>\n",
       "</table>\n",
       "</div>"
      ],
      "text/plain": [
       "Empty DataFrame\n",
       "Columns: [Show Number, Air Date, Round, Category, Value, Question, Answer]\n",
       "Index: []"
      ]
     },
     "execution_count": 52,
     "metadata": {},
     "output_type": "execute_result"
    }
   ],
   "source": [
    "# Checking the Category\n",
    "non_string_mask = jeopardy_data_clean['Category'].apply(lambda x: not isinstance(x, str))\n",
    "non_string_categories = jeopardy_data_clean[non_string_mask]  \n",
    "non_string_categories # this is giving zero rows -> which means all are strings ?"
   ]
  },
  {
   "cell_type": "code",
   "execution_count": 57,
   "metadata": {},
   "outputs": [
    {
     "data": {
      "text/plain": [
       "Value\n",
       "$400       42244\n",
       "$800       31860\n",
       "$200       30455\n",
       "$600       20377\n",
       "$1000      19539\n",
       "           ...  \n",
       "$5,401         1\n",
       "$1,183         1\n",
       "$1,203         1\n",
       "$11,600        1\n",
       "$11,200        1\n",
       "Name: count, Length: 150, dtype: int64"
      ]
     },
     "execution_count": 57,
     "metadata": {},
     "output_type": "execute_result"
    }
   ],
   "source": [
    "jeopardy_data_clean['Value'].value_counts()"
   ]
  },
  {
   "cell_type": "markdown",
   "metadata": {},
   "source": [
    "2. Write a function that filters the dataset for questions that contains all of the words in a list of words. For example, when the list `[\"King\", \"England\"]` was passed to our function, the function returned a DataFrame of 49 rows. Every row had the strings `\"King\"` and `\"England\"` somewhere in its `\" Question\"`.\n",
    "\n",
    "   Test your function by printing out the column containing the question of each row of the dataset."
   ]
  },
  {
   "cell_type": "code",
   "execution_count": 85,
   "metadata": {},
   "outputs": [
    {
     "name": "stdout",
     "output_type": "stream",
     "text": [
      "We have 5 questions containing the words {'viking', 'king', 'england'}\n",
      "We have 152 questions containing the words {'king', 'England'}\n"
     ]
    },
    {
     "data": {
      "text/html": [
       "<div>\n",
       "<style scoped>\n",
       "    .dataframe tbody tr th:only-of-type {\n",
       "        vertical-align: middle;\n",
       "    }\n",
       "\n",
       "    .dataframe tbody tr th {\n",
       "        vertical-align: top;\n",
       "    }\n",
       "\n",
       "    .dataframe thead th {\n",
       "        text-align: right;\n",
       "    }\n",
       "</style>\n",
       "<table border=\"1\" class=\"dataframe\">\n",
       "  <thead>\n",
       "    <tr style=\"text-align: right;\">\n",
       "      <th></th>\n",
       "      <th>Show Number</th>\n",
       "      <th>Air Date</th>\n",
       "      <th>Round</th>\n",
       "      <th>Category</th>\n",
       "      <th>Value</th>\n",
       "      <th>Question</th>\n",
       "      <th>Answer</th>\n",
       "    </tr>\n",
       "  </thead>\n",
       "  <tbody>\n",
       "    <tr>\n",
       "      <th>4953</th>\n",
       "      <td>3003</td>\n",
       "      <td>1997-09-24</td>\n",
       "      <td>Double Jeopardy!</td>\n",
       "      <td>\"PH\"UN WORDS</td>\n",
       "      <td>$200</td>\n",
       "      <td>Both England's King George V &amp; FDR put their stamp of approval on this \"King of Hobbies\"</td>\n",
       "      <td>Philately (stamp collecting)</td>\n",
       "    </tr>\n",
       "    <tr>\n",
       "      <th>6337</th>\n",
       "      <td>3517</td>\n",
       "      <td>1999-12-14</td>\n",
       "      <td>Double Jeopardy!</td>\n",
       "      <td>Y1K</td>\n",
       "      <td>$800</td>\n",
       "      <td>In retaliation for Viking raids, this \"Unready\" king of England attacks Norse areas of the Isle of Man</td>\n",
       "      <td>Ethelred</td>\n",
       "    </tr>\n",
       "    <tr>\n",
       "      <th>9191</th>\n",
       "      <td>3907</td>\n",
       "      <td>2001-09-04</td>\n",
       "      <td>Double Jeopardy!</td>\n",
       "      <td>WON THE BATTLE</td>\n",
       "      <td>$800</td>\n",
       "      <td>This king of England beat the odds to trounce the French in the 1415 Battle of Agincourt</td>\n",
       "      <td>Henry V</td>\n",
       "    </tr>\n",
       "    <tr>\n",
       "      <th>11710</th>\n",
       "      <td>2903</td>\n",
       "      <td>1997-03-26</td>\n",
       "      <td>Double Jeopardy!</td>\n",
       "      <td>BRITISH MONARCHS</td>\n",
       "      <td>$600</td>\n",
       "      <td>This Scotsman, the first Stuart king of England, was called \"The Wisest Fool in Christendom\"</td>\n",
       "      <td>James I</td>\n",
       "    </tr>\n",
       "    <tr>\n",
       "      <th>13454</th>\n",
       "      <td>4726</td>\n",
       "      <td>2005-03-07</td>\n",
       "      <td>Jeopardy!</td>\n",
       "      <td>A NUMBER FROM 1 TO 10</td>\n",
       "      <td>$1000</td>\n",
       "      <td>It's the number that followed the last king of England named William</td>\n",
       "      <td>4</td>\n",
       "    </tr>\n",
       "    <tr>\n",
       "      <th>...</th>\n",
       "      <td>...</td>\n",
       "      <td>...</td>\n",
       "      <td>...</td>\n",
       "      <td>...</td>\n",
       "      <td>...</td>\n",
       "      <td>...</td>\n",
       "      <td>...</td>\n",
       "    </tr>\n",
       "    <tr>\n",
       "      <th>208295</th>\n",
       "      <td>4621</td>\n",
       "      <td>2004-10-11</td>\n",
       "      <td>Jeopardy!</td>\n",
       "      <td>THE VIKINGS</td>\n",
       "      <td>$600</td>\n",
       "      <td>In 1066 this great-great grandson of Rollo made what some call the last Viking invasion of England</td>\n",
       "      <td>William the Conqueror</td>\n",
       "    </tr>\n",
       "    <tr>\n",
       "      <th>208742</th>\n",
       "      <td>4863</td>\n",
       "      <td>2005-11-02</td>\n",
       "      <td>Double Jeopardy!</td>\n",
       "      <td>BEFORE &amp; AFTER</td>\n",
       "      <td>$3,000</td>\n",
       "      <td>Dutch-born king who ruled England jointly with Mary II &amp; is a tasty New Zealand fish</td>\n",
       "      <td>William of Orange roughy</td>\n",
       "    </tr>\n",
       "    <tr>\n",
       "      <th>213870</th>\n",
       "      <td>5856</td>\n",
       "      <td>2010-02-15</td>\n",
       "      <td>Double Jeopardy!</td>\n",
       "      <td>URANUS</td>\n",
       "      <td>$1600</td>\n",
       "      <td>In 1781 William Herschel discovered Uranus &amp; initially named it after this king of England</td>\n",
       "      <td>George III</td>\n",
       "    </tr>\n",
       "    <tr>\n",
       "      <th>216021</th>\n",
       "      <td>1881</td>\n",
       "      <td>1992-11-09</td>\n",
       "      <td>Double Jeopardy!</td>\n",
       "      <td>HISTORIC NAMES</td>\n",
       "      <td>$1000</td>\n",
       "      <td>His nickname was \"Bertie\", but he used this name &amp; number when he became king of England in 1901</td>\n",
       "      <td>Edward VII</td>\n",
       "    </tr>\n",
       "    <tr>\n",
       "      <th>216789</th>\n",
       "      <td>5070</td>\n",
       "      <td>2006-09-29</td>\n",
       "      <td>Double Jeopardy!</td>\n",
       "      <td>ANCIENT HISTORY</td>\n",
       "      <td>$1200</td>\n",
       "      <td>This kingdom of England grew from 2 settlements, one founded around 495 by Cerdic &amp; his son Cynric</td>\n",
       "      <td>Wessex</td>\n",
       "    </tr>\n",
       "  </tbody>\n",
       "</table>\n",
       "<p>152 rows × 7 columns</p>\n",
       "</div>"
      ],
      "text/plain": [
       "        Show Number    Air Date             Round               Category  \\\n",
       "4953           3003  1997-09-24  Double Jeopardy!           \"PH\"UN WORDS   \n",
       "6337           3517  1999-12-14  Double Jeopardy!                    Y1K   \n",
       "9191           3907  2001-09-04  Double Jeopardy!         WON THE BATTLE   \n",
       "11710          2903  1997-03-26  Double Jeopardy!       BRITISH MONARCHS   \n",
       "13454          4726  2005-03-07         Jeopardy!  A NUMBER FROM 1 TO 10   \n",
       "...             ...         ...               ...                    ...   \n",
       "208295         4621  2004-10-11         Jeopardy!            THE VIKINGS   \n",
       "208742         4863  2005-11-02  Double Jeopardy!         BEFORE & AFTER   \n",
       "213870         5856  2010-02-15  Double Jeopardy!                 URANUS   \n",
       "216021         1881  1992-11-09  Double Jeopardy!         HISTORIC NAMES   \n",
       "216789         5070  2006-09-29  Double Jeopardy!        ANCIENT HISTORY   \n",
       "\n",
       "         Value  \\\n",
       "4953      $200   \n",
       "6337      $800   \n",
       "9191      $800   \n",
       "11710     $600   \n",
       "13454    $1000   \n",
       "...        ...   \n",
       "208295    $600   \n",
       "208742  $3,000   \n",
       "213870   $1600   \n",
       "216021   $1000   \n",
       "216789   $1200   \n",
       "\n",
       "                                                                                                      Question  \\\n",
       "4953                  Both England's King George V & FDR put their stamp of approval on this \"King of Hobbies\"   \n",
       "6337    In retaliation for Viking raids, this \"Unready\" king of England attacks Norse areas of the Isle of Man   \n",
       "9191                  This king of England beat the odds to trounce the French in the 1415 Battle of Agincourt   \n",
       "11710             This Scotsman, the first Stuart king of England, was called \"The Wisest Fool in Christendom\"   \n",
       "13454                                     It's the number that followed the last king of England named William   \n",
       "...                                                                                                        ...   \n",
       "208295      In 1066 this great-great grandson of Rollo made what some call the last Viking invasion of England   \n",
       "208742                    Dutch-born king who ruled England jointly with Mary II & is a tasty New Zealand fish   \n",
       "213870              In 1781 William Herschel discovered Uranus & initially named it after this king of England   \n",
       "216021        His nickname was \"Bertie\", but he used this name & number when he became king of England in 1901   \n",
       "216789      This kingdom of England grew from 2 settlements, one founded around 495 by Cerdic & his son Cynric   \n",
       "\n",
       "                              Answer  \n",
       "4953    Philately (stamp collecting)  \n",
       "6337                        Ethelred  \n",
       "9191                         Henry V  \n",
       "11710                        James I  \n",
       "13454                              4  \n",
       "...                              ...  \n",
       "208295         William the Conqueror  \n",
       "208742      William of Orange roughy  \n",
       "213870                    George III  \n",
       "216021                    Edward VII  \n",
       "216789                        Wessex  \n",
       "\n",
       "[152 rows x 7 columns]"
      ]
     },
     "execution_count": 85,
     "metadata": {},
     "output_type": "execute_result"
    }
   ],
   "source": [
    "def get_jeopardy_data(words_to_find):\n",
    "    condition = True\n",
    "    # Dynamically build the condition to check for all words in the list\n",
    "    for word in words_to_find:\n",
    "        condition &= jeopardy_data_clean.Question.str.contains(word, case=False, na=False)\n",
    "    # Filter the DataFrame using the dynamically constructed condition\n",
    "    filtered_jeopardy_data = jeopardy_data_clean[condition]\n",
    "    number_of_words = len(filtered_jeopardy_data)\n",
    "    print(\"We have {number_of_words} questions containing the words {list_of_words}\".format(number_of_words=number_of_words, list_of_words=words_to_find) )\n",
    "    return filtered_jeopardy_data\n",
    "\n",
    "#Testing\n",
    "list_of_words = {'king', 'viking', 'england'}\n",
    "get_jeopardy_data(list_of_words)\n",
    "\n",
    "list_of_words2 = {'king', 'England'}\n",
    "get_jeopardy_data(list_of_words2) # expected 152 rows as per codeacademy\n"
   ]
  },
  {
   "cell_type": "markdown",
   "metadata": {},
   "source": [
    "3. Test your original function with a few different sets of words to try to find some ways your function breaks. Edit your function so it is more robust.\n",
    "\n",
    "   For example, think about capitalization. We probably want to find questions that contain the word `\"King\"` or `\"king\"`.\n",
    "   \n",
    "   You may also want to check to make sure you don't find rows that contain substrings of your given words. For example, our function found a question that didn't contain the word `\"king\"`, however it did contain the word `\"viking\"` &mdash; it found the `\"king\"` inside `\"viking\"`. Note that this also comes with some drawbacks &mdash; you would no longer find questions that contained words like `\"England's\"`."
   ]
  },
  {
   "cell_type": "code",
   "execution_count": 90,
   "metadata": {},
   "outputs": [
    {
     "name": "stdout",
     "output_type": "stream",
     "text": [
      "We have 3 questions containing the words ['no value']\n"
     ]
    },
    {
     "data": {
      "text/html": [
       "<div>\n",
       "<style scoped>\n",
       "    .dataframe tbody tr th:only-of-type {\n",
       "        vertical-align: middle;\n",
       "    }\n",
       "\n",
       "    .dataframe tbody tr th {\n",
       "        vertical-align: top;\n",
       "    }\n",
       "\n",
       "    .dataframe thead th {\n",
       "        text-align: right;\n",
       "    }\n",
       "</style>\n",
       "<table border=\"1\" class=\"dataframe\">\n",
       "  <thead>\n",
       "    <tr style=\"text-align: right;\">\n",
       "      <th></th>\n",
       "      <th>Show Number</th>\n",
       "      <th>Air Date</th>\n",
       "      <th>Round</th>\n",
       "      <th>Category</th>\n",
       "      <th>Value</th>\n",
       "      <th>Question</th>\n",
       "      <th>Answer</th>\n",
       "    </tr>\n",
       "  </thead>\n",
       "  <tbody>\n",
       "    <tr>\n",
       "      <th>87969</th>\n",
       "      <td>3640</td>\n",
       "      <td>2000-06-02</td>\n",
       "      <td>Double Jeopardy!</td>\n",
       "      <td>ABSOLUTELY NOTHING</td>\n",
       "      <td>$2,000</td>\n",
       "      <td>It can mean zero; something of no value; or a coded message</td>\n",
       "      <td>Cypher</td>\n",
       "    </tr>\n",
       "    <tr>\n",
       "      <th>151441</th>\n",
       "      <td>3357</td>\n",
       "      <td>1999-03-23</td>\n",
       "      <td>Jeopardy!</td>\n",
       "      <td>DON'T LISTEN TO THEM!</td>\n",
       "      <td>$200</td>\n",
       "      <td>An 1876 Western Union internal memo said this device has \"many shortcomings\" &amp; \"is inherently of no value to us\"</td>\n",
       "      <td>Telephone</td>\n",
       "    </tr>\n",
       "    <tr>\n",
       "      <th>162468</th>\n",
       "      <td>3371</td>\n",
       "      <td>1999-04-12</td>\n",
       "      <td>Double Jeopardy!</td>\n",
       "      <td>LEGALESE</td>\n",
       "      <td>$1000</td>\n",
       "      <td>From the Latin for \"no value\", it's a jury's decision to acquit though the law points to conviction</td>\n",
       "      <td>nullification</td>\n",
       "    </tr>\n",
       "  </tbody>\n",
       "</table>\n",
       "</div>"
      ],
      "text/plain": [
       "        Show Number    Air Date             Round               Category  \\\n",
       "87969          3640  2000-06-02  Double Jeopardy!     ABSOLUTELY NOTHING   \n",
       "151441         3357  1999-03-23         Jeopardy!  DON'T LISTEN TO THEM!   \n",
       "162468         3371  1999-04-12  Double Jeopardy!               LEGALESE   \n",
       "\n",
       "         Value  \\\n",
       "87969   $2,000   \n",
       "151441    $200   \n",
       "162468   $1000   \n",
       "\n",
       "                                                                                                                Question  \\\n",
       "87969                                                        It can mean zero; something of no value; or a coded message   \n",
       "151441  An 1876 Western Union internal memo said this device has \"many shortcomings\" & \"is inherently of no value to us\"   \n",
       "162468               From the Latin for \"no value\", it's a jury's decision to acquit though the law points to conviction   \n",
       "\n",
       "               Answer  \n",
       "87969          Cypher  \n",
       "151441      Telephone  \n",
       "162468  nullification  "
      ]
     },
     "execution_count": 90,
     "metadata": {},
     "output_type": "execute_result"
    }
   ],
   "source": [
    "# More testing\n",
    "list_of_words3 = ['no value']\n",
    "get_jeopardy_data(list_of_words3)"
   ]
  },
  {
   "cell_type": "markdown",
   "metadata": {},
   "source": [
    "4. We may want to eventually compute aggregate statistics, like `.mean()` on the `\" Value\"` column. But right now, the values in that column are strings. Convert the`\" Value\"` column to floats. If you'd like to, you can create a new column with float values.\n",
    "\n",
    "   While most of the values in the `\" Value\"` column represent a dollar amount as a string, note that some do not &mdash; these values will need to be handled differently!\n",
    "\n",
    "   Now that you can filter the dataset of question, use your new column that contains the float values of each question to find the \"difficulty\" of certain topics. For example, what is the average value of questions that contain the word `\"King\"`?\n",
    "   \n",
    "   Make sure to use the dataset that contains the float values as the dataset you use in your filtering function."
   ]
  },
  {
   "cell_type": "code",
   "execution_count": 140,
   "metadata": {},
   "outputs": [
    {
     "name": "stdout",
     "output_type": "stream",
     "text": [
      "0      200.0\n",
      "1      200.0\n",
      "2      200.0\n",
      "3      200.0\n",
      "4      200.0\n",
      "       ...  \n",
      "195    400.0\n",
      "196    400.0\n",
      "197    400.0\n",
      "198    400.0\n",
      "199    500.0\n",
      "Name: USD_value2, Length: 200, dtype: float64\n",
      "We have 152 questions containing the words ['king', 'england']\n",
      "The average value for these questions is $910.8\n",
      "We have 21 questions containing the words ['african', 'king']\n",
      "The average value for these questions is $1265.0\n"
     ]
    }
   ],
   "source": [
    "jeopardy_data_clean['Value'].value_counts()\n",
    "\n",
    "jeopardy_data_clean['USD_value'] = jeopardy_data_clean['Value'].str.strip().replace('[$,]', '', regex=True) \n",
    "jeopardy_data_clean['USD_value'] = jeopardy_data_clean['USD_value'].str.strip().replace('no value', '', regex=True) \n",
    "\n",
    "jeopardy_data_clean['USD_value2'] = pd.to_numeric(jeopardy_data_clean['USD_value'])\n",
    "print(jeopardy_data_clean.USD_value2.head(200))\n",
    "\n",
    "#Testing average values for groups of words\n",
    "easy_words = ['king', 'england']\n",
    "mean_value_easy_words = round(get_jeopardy_data(easy_words).USD_value2.mean(),1)\n",
    "print(\"The average value for these questions is ${value}\".format(value=mean_value_easy_words) )\n",
    "\n",
    "medium_words = ['african', 'king']\n",
    "mean_value_medium_words = round(get_jeopardy_data(medium_words).USD_value2.mean(),1)\n",
    "print(\"The average value for these questions is ${value}\".format(value=mean_value_medium_words) )\n",
    "\n",
    "# Uncomment below to find values\n",
    "# print(jeopardy_data_clean[ jeopardy_data_clean['USD_value2'] > 2000] )"
   ]
  },
  {
   "cell_type": "markdown",
   "metadata": {},
   "source": [
    "5. Write a function that returns the count of unique answers to all of the questions in a dataset. For example, after filtering the entire dataset to only questions containing the word `\"King\"`, we could then find all of the unique answers to those questions. The answer \"Henry VIII\" appeared 55 times and was the most common answer."
   ]
  },
  {
   "cell_type": "code",
   "execution_count": 142,
   "metadata": {},
   "outputs": [
    {
     "name": "stdout",
     "output_type": "stream",
     "text": [
      "We have 7409 questions containing the words ['king']\n",
      "Answer\n",
      "Henry VIII                   55\n",
      "Solomon                      35\n",
      "Richard III                  33\n",
      "Louis XIV                    31\n",
      "David                        30\n",
      "                             ..\n",
      "cardiac (in card I acted)     1\n",
      "Henderson                     1\n",
      "Computer                      1\n",
      "Indians                       1\n",
      "work                          1\n",
      "Name: count, Length: 5268, dtype: int64\n"
     ]
    }
   ],
   "source": [
    "#no need for a function\n",
    "words5 = ['king']\n",
    "values_king = get_jeopardy_data(words5).Answer.value_counts()\n",
    "print(values_king)\n"
   ]
  },
  {
   "cell_type": "markdown",
   "metadata": {},
   "source": [
    "6. Explore from here! This is an incredibly rich dataset, and there are so many interesting things to discover. There are a few columns that we haven't even started looking at yet. Here are some ideas on ways to continue working with this data:\n",
    "\n",
    " * Investigate the ways in which questions change over time by filtering by the date. How many questions from the 90s use the word `\"Computer\"` compared to questions from the 2000s?\n",
    " * Is there a connection between the round and the category? Are you more likely to find certain categories, like `\"Literature\"` in Single Jeopardy or Double Jeopardy?\n",
    " * Build a system to quiz yourself. Grab random questions, and use the <a href=\"https://docs.python.org/3/library/functions.html#input\">input</a> function to get a response from the user. Check to see if that response was right or wrong."
   ]
  },
  {
   "cell_type": "code",
   "execution_count": 146,
   "metadata": {},
   "outputs": [
    {
     "data": {
      "text/plain": [
       "decade\n",
       "1980      8108\n",
       "1990     56745\n",
       "2000    123852\n",
       "2010     28225\n",
       "Name: Question, dtype: int64"
      ]
     },
     "execution_count": 146,
     "metadata": {},
     "output_type": "execute_result"
    }
   ],
   "source": [
    "# Investigate the ways in which questions change over time by filtering by the date. \n",
    "\n",
    "\n",
    "#first we create the \"decade\" column to group data\n",
    "jeopardy_data_clean['Air Date'] = pd.to_datetime(jeopardy_data_clean['Air Date']) # Ensure the date column is in datetime format\n",
    "\n",
    "# Extract the year from the date, find the decade, and create a new column\n",
    "jeopardy_data_clean['decade'] = (jeopardy_data_clean['Air Date'].dt.year // 10) * 10\n",
    "\n",
    "questions_per_decade = jeopardy_data_clean.groupby('decade').Question.count()\n",
    "questions_per_decade"
   ]
  },
  {
   "cell_type": "code",
   "execution_count": 155,
   "metadata": {},
   "outputs": [
    {
     "name": "stdout",
     "output_type": "stream",
     "text": [
      "We have 431 questions containing the words ['computer']\n",
      "decade\n",
      "1980      6\n",
      "1990     98\n",
      "2000    268\n",
      "2010     59\n",
      "Name: Question, dtype: int64\n",
      "We have 19 questions containing the words ['gender']\n",
      "decade\n",
      "1980     1\n",
      "1990     2\n",
      "2000    15\n",
      "2010     1\n",
      "Name: Question, dtype: int64\n"
     ]
    }
   ],
   "source": [
    "#How many questions from the 90s use the word \"Computer\" compared to questions from the 2000s?\n",
    "words = ['computer']\n",
    "specific_questions_per_decade = get_jeopardy_data(words).groupby('decade').Question.count()\n",
    "print(specific_questions_per_decade)\n",
    "\n",
    "words = ['gender']\n",
    "specific_questions_per_decade = get_jeopardy_data(words).groupby('decade').Question.count()\n",
    "print(specific_questions_per_decade)"
   ]
  },
  {
   "cell_type": "code",
   "execution_count": 163,
   "metadata": {},
   "outputs": [
    {
     "name": "stdout",
     "output_type": "stream",
     "text": [
      "Round\n",
      "Double Jeopardy!    105912\n",
      "Final Jeopardy!       3631\n",
      "Jeopardy!           107384\n",
      "Tiebreaker               3\n",
      "Name: Question, dtype: int64\n",
      "Round\n",
      "Double Jeopardy!    14576\n",
      "Final Jeopardy!      1952\n",
      "Jeopardy!           15155\n",
      "Tiebreaker              3\n",
      "Name: Category, dtype: int64\n"
     ]
    }
   ],
   "source": [
    "# Is there a connection between the round and the category? \n",
    "# Are you more likely to find certain categories, like `\"Literature\"` in Single Jeopardy or Double Jeopardy?\n",
    "\n",
    "# initial tests\n",
    "questions_per_round = jeopardy_data_clean.groupby('Round').Question.count()\n",
    "print(questions_per_round)\n",
    "\n",
    "categories_per_round = jeopardy_data_clean.groupby('Round').Category.nunique()\n",
    "print(categories_per_round)"
   ]
  },
  {
   "cell_type": "code",
   "execution_count": 191,
   "metadata": {},
   "outputs": [
    {
     "name": "stdout",
     "output_type": "stream",
     "text": [
      "Questions by super category:\n",
      "super_category\n",
      "Art_Literature      6138\n",
      "Geography           1443\n",
      "History             5045\n",
      "Leisure                9\n",
      "Other             199794\n",
      "Science             2475\n",
      "Sports              2026\n",
      "Name: Question, dtype: int64\n",
      "\n",
      " Mean value by super category:\n",
      "super_category\n",
      "Art_Literature    800.576333\n",
      "Geography         688.239538\n",
      "History           718.959916\n",
      "Leisure           777.777778\n",
      "Other             752.235700\n",
      "Science           820.886382\n",
      "Sports            684.408329\n",
      "Name: USD_value2, dtype: float64\n",
      "\n",
      " Questions by Value groups\n",
      "value_group\n",
      "value < 500$      216743\n",
      "value > 6,000$       187\n",
      "Name: Question, dtype: int64\n"
     ]
    }
   ],
   "source": [
    "#Let's create a super_category column\n",
    "def assign_super_category(category):\n",
    "    #Geography, Entertainment, History, Art and Literature, Science and Nature, and Sports and Leisure.\n",
    "\n",
    "    #Literature\n",
    "    if 'literature' in category.lower():\n",
    "        return 'Art_Literature'\n",
    "    elif 'art' in category.lower():\n",
    "        return 'Art_Literature'\n",
    "    elif 'art' in category.lower():\n",
    "        return 'Art_Literature'\n",
    "    elif 'WORD ORIGINS' in category.lower():\n",
    "        return 'Art_Literature'\n",
    "    #Geography\n",
    "    elif 'geography' in category.lower():\n",
    "        return 'Geography'\n",
    "    elif 'U.S. CITIES' in category.lower():\n",
    "        return 'Geography'\n",
    "    #Science\n",
    "    elif 'science' in category.lower():\n",
    "        return 'Science'\n",
    "    elif 'nature' in category.lower():\n",
    "        return 'Science'\n",
    "    #History\n",
    "    elif 'history' in category.lower():\n",
    "        return 'History'\n",
    "    elif 'historic' in category.lower():\n",
    "        return 'History'\n",
    "    #Sports\n",
    "    elif 'sports' in category.lower():\n",
    "        return 'Sports'\n",
    "    elif 'espn\\'s' in category.lower():\n",
    "        return 'Sports'\n",
    "    #Leisure\n",
    "    elif 'leisure' in category.lower():\n",
    "        return 'Leisure'\n",
    "        \n",
    "    # Add more conditions as needed\n",
    "    else:\n",
    "        return 'Other'\n",
    "\n",
    "#Potential idea below - create value groups\n",
    "def assign_value_group(value):\n",
    "    if value > 6000:\n",
    "        return 'value > 6,000$'\n",
    "    elif 3000 > value > 6000:\n",
    "        return '$3,000 > value > 6,000$'\n",
    "    elif 1000 > value > 3000:\n",
    "        return '$1,000 > value > 3,000$'\n",
    "    elif 500 > value > 1000:\n",
    "        return '$500 > value > 1,000$'\n",
    "    else:\n",
    "        return 'value < 500$'\n",
    "\n",
    "\n",
    "jeopardy_data_clean['super_category'] = jeopardy_data_clean.Category.apply(assign_super_category)\n",
    "jeopardy_data_clean['value_group'] = jeopardy_data_clean.USD_value2.apply(assign_value_group)\n",
    "\n",
    "print('Questions by super category:')\n",
    "questions_by_super_category = jeopardy_data_clean.groupby('super_category').Question.count()\n",
    "print(questions_by_super_category)\n",
    "\n",
    "print('\\n Mean value by super category:')\n",
    "value_by_super_category = jeopardy_data_clean.groupby('super_category').USD_value2.mean()\n",
    "print(value_by_super_category)\n",
    "\n",
    "print('\\n Questions by Value groups')\n",
    "qs_by_value_group = jeopardy_data_clean.groupby('value_group').Question.count()\n",
    "print(qs_by_value_group)\n",
    "\n",
    "other_categories = jeopardy_data_clean[jeopardy_data_clean.super_category == 'Other' ].Category\n"
   ]
  },
  {
   "cell_type": "markdown",
   "metadata": {},
   "source": [
    "# Build a system to quiz yourself. "
   ]
  },
  {
   "cell_type": "code",
   "execution_count": 210,
   "metadata": {},
   "outputs": [
    {
     "name": "stdin",
     "output_type": "stream",
     "text": [
      "Enter a word and I will ask you a question related to it:\n",
      " help\n"
     ]
    },
    {
     "name": "stdout",
     "output_type": "stream",
     "text": [
      "We have 1754 questions containing the words ['help']\n",
      "\n",
      "Here is a random question: \n",
      "Want heavenly help to pick the right lingerie?  Bali's website uses these, based on your birthdate, to help you\n"
     ]
    },
    {
     "name": "stdin",
     "output_type": "stream",
     "text": [
      "\n",
      "What is your answer? ?\n"
     ]
    },
    {
     "name": "stdout",
     "output_type": "stream",
     "text": [
      "\n",
      "The answer was: horoscopes/astrological signs\n"
     ]
    }
   ],
   "source": [
    "# Grab random questions, and use the input function \n",
    "# to get a response from the user. Check to see if that response was right or wrong.\n",
    "\n",
    "word_input = input('Enter a word and I will ask you a question related to it:\\n')\n",
    "selected_question = get_jeopardy_data([word_input]).sample(n=1)\n",
    "question = selected_question.Question.iloc[0] \n",
    "answer = selected_question.Answer.iloc[0]\n",
    "\n",
    "print(\"\\nHere is a random question: \")\n",
    "print(question)\n",
    "\n",
    "answer_input = input('\\nWhat is your answer?')\n",
    "print(\"\\nThe answer was: {answer}\".format(answer = answer) )\n"
   ]
  },
  {
   "cell_type": "markdown",
   "metadata": {},
   "source": [
    "## Solution"
   ]
  },
  {
   "cell_type": "markdown",
   "metadata": {},
   "source": [
    "7. Compare your program to our <a href=\"https://content.codecademy.com/PRO/independent-practice-projects/jeopardy/jeopardy_solution.zip\">sample solution code</a> - remember, that your program might look different from ours (and probably will) and that's okay!"
   ]
  },
  {
   "cell_type": "markdown",
   "metadata": {},
   "source": [
    "8. Great work! Visit <a href=\"https://discuss.codecademy.com/t/this-is-jeopardy-challenge-project-python-pandas/462365\">our forums</a> to compare your project to our sample solution code. You can also learn how to host your own solution on GitHub so you can share it with other learners! Your solution might look different from ours, and that's okay! There are multiple ways to solve these projects, and you'll learn more by seeing others' code."
   ]
  },
  {
   "cell_type": "code",
   "execution_count": null,
   "metadata": {},
   "outputs": [],
   "source": []
  }
 ],
 "metadata": {
  "kernelspec": {
   "display_name": "Python 3 (ipykernel)",
   "language": "python",
   "name": "python3"
  },
  "language_info": {
   "codemirror_mode": {
    "name": "ipython",
    "version": 3
   },
   "file_extension": ".py",
   "mimetype": "text/x-python",
   "name": "python",
   "nbconvert_exporter": "python",
   "pygments_lexer": "ipython3",
   "version": "3.11.5"
  }
 },
 "nbformat": 4,
 "nbformat_minor": 4
}
